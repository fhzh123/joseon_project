{
 "cells": [
  {
   "cell_type": "code",
   "execution_count": 1,
   "metadata": {},
   "outputs": [],
   "source": [
    "# Import Module\n",
    "import os\n",
    "os.environ[\"CUDA_DEVICE_ORDER\"]=\"PCI_BUS_ID\"   \n",
    "os.environ[\"CUDA_VISIBLE_DEVICES\"]=\"3\""
   ]
  },
  {
   "cell_type": "code",
   "execution_count": 4,
   "metadata": {},
   "outputs": [],
   "source": [
    "# Import Modules\n",
    "import json\n",
    "import time\n",
    "import pickle\n",
    "import argparse\n",
    "import numpy as np\n",
    "import sentencepiece as spm\n",
    "from glob import glob\n",
    "from tqdm import tqdm\n",
    "from collections import Counter\n",
    "\n",
    "# Import Custom Modules\n",
    "from utils import terminal_size, train_test_split"
   ]
  },
  {
   "cell_type": "code",
   "execution_count": 5,
   "metadata": {},
   "outputs": [],
   "source": [
    "parser = argparse.ArgumentParser(description='Parsing Method')\n",
    "parser.add_argument('--max_len', default=300, type=int)\n",
    "parser.add_argument('--save_path', default='./save3', \n",
    "                    type=str)\n",
    "parser.add_argument('--data_path', default='../joseon_word_embedding/data', \n",
    "                    type=str, help='Crawling data path')\n",
    "parser.add_argument('--data_split_per', default=0.2, type=float,\n",
    "                    help='Train / Validation split ratio')\n",
    "parser.add_argument('--pad_idx', default=0, type=int, help='Padding index')\n",
    "parser.add_argument('--bos_idx', default=1, type=int, help='Start token index')\n",
    "parser.add_argument('--eos_idx', default=2, type=int, help='End token index')\n",
    "parser.add_argument('--unk_idx', default=3, type=int, help='Unknown token index')\n",
    "parser.add_argument('--vocab_size', default=24000, type=int, help='Korean vocabulary size')\n",
    "args = parser.parse_args(list())"
   ]
  },
  {
   "cell_type": "code",
   "execution_count": 6,
   "metadata": {
    "tags": []
   },
   "outputs": [
    {
     "output_type": "stream",
     "name": "stderr",
     "text": "0%|          | 0/27 [00:00<?, ?it/s]Total list making...\n100%|██████████| 27/27 [00:13<00:00,  1.94it/s]\nPaired data num:\ntrain: 253860\nvalid: 31732\ntest: 31732\n"
    }
   ],
   "source": [
    "#===================================#\n",
    "#============Data Load==============#\n",
    "#===================================#\n",
    "\n",
    "print('Total list making...')\n",
    "# 1) Path setting\n",
    "data_list = glob(os.path.join(args.data_path, '*.json'))\n",
    "data_list = sorted(data_list)[:-1] # 순종부록 제거\n",
    "\n",
    "total_src_list = list()\n",
    "total_trg_list = list()\n",
    "total_king_list = list()\n",
    "\n",
    "# 2) Total data making\n",
    "for data_path in tqdm(data_list):\n",
    "    # 2-1) Load data\n",
    "    with open(data_path, 'r') as f:\n",
    "        data_ = json.load(f)\n",
    "    data_src_list = list()\n",
    "    data_trg_list = list()\n",
    "    # 2-2) Extract string data by length\n",
    "    for x in data_:\n",
    "        if len(x['hanja']) <= args.max_len:\n",
    "            data_src_list.append(x['hanja'])\n",
    "            data_trg_list.append(x['korean'])\n",
    "    # 2-3) Total data setting\n",
    "    total_src_list.extend(data_src_list)\n",
    "    total_trg_list.extend(data_trg_list)\n",
    "    # 2-4) King list setting\n",
    "    king_id = int(data_path.split('data/')[1][:2]) - 1 # Start from 0\n",
    "    total_king_list.extend([king_id for _ in range(len(data_src_list))])\n",
    "\n",
    "#===================================#\n",
    "#============Data Split=============#\n",
    "#===================================#\n",
    "\n",
    "# 1) Train / Test Split\n",
    "split_src_record, split_trg_record, split_king_record = train_test_split(\n",
    "    total_src_list, total_trg_list, total_king_list, split_percent=args.data_split_per)\n",
    "\n",
    "# 2) Test / Valid Split\n",
    "split_test_src_record, split_test_trg_record, split_test_king_record = train_test_split(\n",
    "    split_src_record['test'], split_trg_record['test'], split_king_record['test'], split_percent=0.5)\n",
    "\n",
    "print('Paired data num:')\n",
    "print(f\"train: {len(split_src_record['train'])}\")\n",
    "print(f\"valid: {len(split_test_src_record['train'])}\")\n",
    "print(f\"test: {len(split_test_src_record['test'])}\")"
   ]
  },
  {
   "cell_type": "code",
   "execution_count": 7,
   "metadata": {},
   "outputs": [
    {
     "output_type": "execute_result",
     "data": {
      "text/plain": "317324"
     },
     "metadata": {},
     "execution_count": 7
    }
   ],
   "source": [
    "len(total_src_list)"
   ]
  },
  {
   "cell_type": "code",
   "execution_count": 8,
   "metadata": {},
   "outputs": [
    {
     "output_type": "execute_result",
     "data": {
      "text/plain": "317324"
     },
     "metadata": {},
     "execution_count": 8
    }
   ],
   "source": [
    "253860 + 31732 + 31732"
   ]
  },
  {
   "cell_type": "code",
   "execution_count": 10,
   "metadata": {},
   "outputs": [],
   "source": [
    "len_list = list()\n",
    "for x in total_src_list:\n",
    "    len_list.append(len(x))"
   ]
  },
  {
   "cell_type": "code",
   "execution_count": 16,
   "metadata": {},
   "outputs": [
    {
     "output_type": "execute_result",
     "data": {
      "text/plain": "72.29334686314303"
     },
     "metadata": {},
     "execution_count": 16
    }
   ],
   "source": [
    "sum(len_list) / len(len_list)"
   ]
  },
  {
   "cell_type": "code",
   "execution_count": 17,
   "metadata": {},
   "outputs": [],
   "source": [
    "len_list = list()\n",
    "for x in total_trg_list:\n",
    "    len_list.append(len(x))"
   ]
  },
  {
   "cell_type": "code",
   "execution_count": 18,
   "metadata": {},
   "outputs": [
    {
     "output_type": "execute_result",
     "data": {
      "text/plain": "148.90497724722997"
     },
     "metadata": {},
     "execution_count": 18
    }
   ],
   "source": [
    "sum(len_list) / len(len_list)"
   ]
  },
  {
   "cell_type": "code",
   "execution_count": null,
   "metadata": {},
   "outputs": [],
   "source": []
  }
 ],
 "metadata": {
  "kernelspec": {
   "display_name": "Python 3",
   "language": "python",
   "name": "python3"
  },
  "language_info": {
   "codemirror_mode": {
    "name": "ipython",
    "version": 3
   },
   "file_extension": ".py",
   "mimetype": "text/x-python",
   "name": "python",
   "nbconvert_exporter": "python",
   "pygments_lexer": "ipython3",
   "version": "3.6.9-final"
  }
 },
 "nbformat": 4,
 "nbformat_minor": 4
}